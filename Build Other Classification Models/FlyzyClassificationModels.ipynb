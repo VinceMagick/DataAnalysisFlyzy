{
  "nbformat": 4,
  "nbformat_minor": 0,
  "metadata": {
    "colab": {
      "provenance": []
    },
    "kernelspec": {
      "name": "python3",
      "display_name": "Python 3"
    },
    "language_info": {
      "name": "python"
    }
  },
  "cells": [
    {
      "cell_type": "markdown",
      "source": [
        "# **Multiple Classification Models for Flight Cancellations**"
      ],
      "metadata": {
        "id": "z5krNApFyPKB"
      }
    },
    {
      "cell_type": "markdown",
      "source": [
        "**In this project for Flyzy's predictive model of flight cancellations, we need to build, evaluate, and compare multiple classification models. The dataset provided has a variety of features that can influence flight cancellations, and our goal is to identify which model provides the best predictions based on several metrics.**"
      ],
      "metadata": {
        "id": "2s_3wFQgxO6F"
      }
    },
    {
      "cell_type": "code",
      "execution_count": null,
      "metadata": {
        "id": "-X0SJFRjBLGb"
      },
      "outputs": [],
      "source": [
        "import pandas as pd\n",
        "from sklearn.model_selection import train_test_split\n",
        "from sklearn.preprocessing import StandardScaler\n",
        "from sklearn.impute import SimpleImputer\n",
        "from sklearn.tree import DecisionTreeClassifier\n",
        "from sklearn.metrics import classification_report, roc_auc_score\n"
      ]
    },
    {
      "cell_type": "markdown",
      "source": [
        "## **1. Load and Inspect Data**\n",
        "\n"
      ],
      "metadata": {
        "id": "9TlkoFm6yt1U"
      }
    },
    {
      "cell_type": "code",
      "source": [
        "# Load the dataset\n",
        "data = pd.read_csv('/content/Flyzy Flight Cancellation - Sheet1.csv')"
      ],
      "metadata": {
        "id": "ZvcBsJneNlWp"
      },
      "execution_count": null,
      "outputs": []
    },
    {
      "cell_type": "code",
      "source": [
        "# Inspect the data\n",
        "print(data.info())\n",
        "print(data.describe())\n",
        "print(data.head())\n"
      ],
      "metadata": {
        "colab": {
          "base_uri": "https://localhost:8080/"
        },
        "id": "EyDNBWfQNsEE",
        "outputId": "356ff5e9-097f-4f46-d5d7-4eecf34a30ca"
      },
      "execution_count": null,
      "outputs": [
        {
          "output_type": "stream",
          "name": "stdout",
          "text": [
            "<class 'pandas.core.frame.DataFrame'>\n",
            "RangeIndex: 3000 entries, 0 to 2999\n",
            "Data columns (total 14 columns):\n",
            " #   Column                         Non-Null Count  Dtype  \n",
            "---  ------                         --------------  -----  \n",
            " 0   Flight ID                      3000 non-null   int64  \n",
            " 1   Airline                        3000 non-null   object \n",
            " 2   Flight_Distance                3000 non-null   int64  \n",
            " 3   Origin_Airport                 3000 non-null   object \n",
            " 4   Destination_Airport            3000 non-null   object \n",
            " 5   Scheduled_Departure_Time       3000 non-null   int64  \n",
            " 6   Day_of_Week                    3000 non-null   int64  \n",
            " 7   Month                          3000 non-null   int64  \n",
            " 8   Airplane_Type                  3000 non-null   object \n",
            " 9   Weather_Score                  3000 non-null   float64\n",
            " 10  Previous_Flight_Delay_Minutes  3000 non-null   float64\n",
            " 11  Airline_Rating                 3000 non-null   float64\n",
            " 12  Passenger_Load                 3000 non-null   float64\n",
            " 13  Flight_Cancelled               3000 non-null   int64  \n",
            "dtypes: float64(4), int64(6), object(4)\n",
            "memory usage: 328.2+ KB\n",
            "None\n",
            "          Flight ID  Flight_Distance  Scheduled_Departure_Time  Day_of_Week  \\\n",
            "count  3.000000e+03      3000.000000               3000.000000  3000.000000   \n",
            "mean   4.997429e+06       498.909333                 11.435000     3.963000   \n",
            "std    2.868139e+06        98.892266                  6.899298     2.016346   \n",
            "min    3.681000e+03       138.000000                  0.000000     1.000000   \n",
            "25%    2.520313e+06       431.000000                  6.000000     2.000000   \n",
            "50%    5.073096e+06       497.000000                 12.000000     4.000000   \n",
            "75%    7.462026e+06       566.000000                 17.000000     6.000000   \n",
            "max    9.999011e+06       864.000000                 23.000000     7.000000   \n",
            "\n",
            "             Month  Weather_Score  Previous_Flight_Delay_Minutes  \\\n",
            "count  3000.000000    3000.000000                    3000.000000   \n",
            "mean      6.381000       0.524023                      26.793383   \n",
            "std       3.473979       0.290694                      27.874733   \n",
            "min       1.000000       0.000965                       0.000000   \n",
            "25%       3.000000       0.278011                       7.000000   \n",
            "50%       6.000000       0.522180                      18.000000   \n",
            "75%       9.000000       0.776323                      38.000000   \n",
            "max      12.000000       1.099246                     259.000000   \n",
            "\n",
            "       Airline_Rating  Passenger_Load  Flight_Cancelled  \n",
            "count     3000.000000     3000.000000       3000.000000  \n",
            "mean         2.317439        0.515885          0.690667  \n",
            "std          1.430386        0.295634          0.462296  \n",
            "min          0.000103        0.001039          0.000000  \n",
            "25%          1.092902        0.265793          0.000000  \n",
            "50%          2.126614        0.517175          1.000000  \n",
            "75%          3.525746        0.770370          1.000000  \n",
            "max          5.189038        1.123559          1.000000  \n",
            "   Flight ID    Airline  Flight_Distance Origin_Airport Destination_Airport  \\\n",
            "0    7319483  Airline D              475      Airport 3           Airport 2   \n",
            "1    4791965  Airline E              538      Airport 5           Airport 4   \n",
            "2    2991718  Airline C              565      Airport 1           Airport 2   \n",
            "3    4220106  Airline E              658      Airport 5           Airport 3   \n",
            "4    2263008  Airline E              566      Airport 2           Airport 2   \n",
            "\n",
            "   Scheduled_Departure_Time  Day_of_Week  Month Airplane_Type  Weather_Score  \\\n",
            "0                         4            6      1        Type C       0.225122   \n",
            "1                        12            1      6        Type B       0.060346   \n",
            "2                        17            3      9        Type C       0.093920   \n",
            "3                         1            1      8        Type B       0.656750   \n",
            "4                        19            7     12        Type E       0.505211   \n",
            "\n",
            "   Previous_Flight_Delay_Minutes  Airline_Rating  Passenger_Load  \\\n",
            "0                            5.0        2.151974        0.477202   \n",
            "1                           68.0        1.600779        0.159718   \n",
            "2                           18.0        4.406848        0.256803   \n",
            "3                           13.0        0.998757        0.504077   \n",
            "4                            4.0        3.806206        0.019638   \n",
            "\n",
            "   Flight_Cancelled  \n",
            "0                 0  \n",
            "1                 1  \n",
            "2                 0  \n",
            "3                 1  \n",
            "4                 0  \n"
          ]
        }
      ]
    },
    {
      "cell_type": "markdown",
      "source": [
        "## **2. Data Preprocessing**"
      ],
      "metadata": {
        "id": "qNHRtjZVzBdV"
      }
    },
    {
      "cell_type": "code",
      "source": [
        "# Handle missing values\n",
        "imputer = SimpleImputer(strategy='most_frequent')\n",
        "data_imputed = pd.DataFrame(imputer.fit_transform(data), columns=data.columns)"
      ],
      "metadata": {
        "id": "1kODHlEMNw8Z"
      },
      "execution_count": null,
      "outputs": []
    },
    {
      "cell_type": "code",
      "source": [
        "# Encode categorical variables\n",
        "categorical_features = ['Airline', 'Origin_Airport', 'Destination_Airport', 'Airplane_Type']\n",
        "data_encoded = pd.get_dummies(data_imputed, columns=categorical_features, drop_first=True)"
      ],
      "metadata": {
        "id": "cxQm_3hBN5Gg"
      },
      "execution_count": null,
      "outputs": []
    },
    {
      "cell_type": "code",
      "source": [
        "# Ensure the target variable is numeric\n",
        "data_encoded['Flight_Cancelled'] = pd.to_numeric(data_encoded['Flight_Cancelled'], errors='coerce')\n"
      ],
      "metadata": {
        "id": "qBTU5ggJOEqD"
      },
      "execution_count": null,
      "outputs": []
    },
    {
      "cell_type": "code",
      "source": [
        "# Drop rows with NaN values in the target variable after conversion\n",
        "data_encoded = data_encoded.dropna(subset=['Flight_Cancelled'])"
      ],
      "metadata": {
        "id": "WnG2oowlOO9e"
      },
      "execution_count": null,
      "outputs": []
    },
    {
      "cell_type": "code",
      "source": [
        "# Inspect columns to verify presence of 'Flight_ID' and 'Flight_Cancelled'\n",
        "print(\"Columns in the DataFrame:\", data_encoded.columns)"
      ],
      "metadata": {
        "colab": {
          "base_uri": "https://localhost:8080/"
        },
        "id": "YSBAtVfmOSzE",
        "outputId": "1dffaa24-8acf-4167-97e8-527adf16c0e5"
      },
      "execution_count": null,
      "outputs": [
        {
          "output_type": "stream",
          "name": "stdout",
          "text": [
            "Columns in the DataFrame: Index(['Flight ID', 'Flight_Distance', 'Scheduled_Departure_Time',\n",
            "       'Day_of_Week', 'Month', 'Weather_Score',\n",
            "       'Previous_Flight_Delay_Minutes', 'Airline_Rating', 'Passenger_Load',\n",
            "       'Flight_Cancelled', 'Airline_Airline B', 'Airline_Airline C',\n",
            "       'Airline_Airline D', 'Airline_Airline E', 'Origin_Airport_Airport 2',\n",
            "       'Origin_Airport_Airport 3', 'Origin_Airport_Airport 4',\n",
            "       'Origin_Airport_Airport 5', 'Destination_Airport_Airport 3',\n",
            "       'Destination_Airport_Airport 4', 'Destination_Airport_Airport 5',\n",
            "       'Airplane_Type_Type B', 'Airplane_Type_Type C', 'Airplane_Type_Type D',\n",
            "       'Airplane_Type_Type E'],\n",
            "      dtype='object')\n"
          ]
        }
      ]
    },
    {
      "cell_type": "code",
      "source": [
        "# Ensure 'Flight_ID' is present before dropping\n",
        "if 'Flight_ID' in data_encoded.columns:\n",
        "    X = data_encoded.drop(['Flight_ID', 'Flight_Cancelled'], axis=1)\n",
        "else:\n",
        "    X = data_encoded.drop(['Flight_Cancelled'], axis=1)\n",
        "\n",
        "y = data_encoded['Flight_Cancelled']"
      ],
      "metadata": {
        "id": "N6SZrbhrOewo"
      },
      "execution_count": null,
      "outputs": []
    },
    {
      "cell_type": "code",
      "source": [
        "# Split the dataset into training and testing sets\n",
        "X_train, X_test, y_train, y_test = train_test_split(X, y, test_size=0.2, random_state=42)"
      ],
      "metadata": {
        "id": "eFq5UpyFOkMO"
      },
      "execution_count": null,
      "outputs": []
    },
    {
      "cell_type": "code",
      "source": [
        "# Standardize numerical features\n",
        "scaler = StandardScaler()\n",
        "X_train_scaled = scaler.fit_transform(X_train)\n",
        "X_test_scaled = scaler.transform(X_test)"
      ],
      "metadata": {
        "id": "ZRD6C9d-Op7-"
      },
      "execution_count": null,
      "outputs": []
    },
    {
      "cell_type": "markdown",
      "source": [
        "## **3. Build Advanced Models**"
      ],
      "metadata": {
        "id": "csVBiHDF0Ly7"
      }
    },
    {
      "cell_type": "code",
      "source": [
        "# Build Decision Tree Model\n",
        "dt_model = DecisionTreeClassifier(random_state=42)\n",
        "dt_model.fit(X_train_scaled, y_train)"
      ],
      "metadata": {
        "colab": {
          "base_uri": "https://localhost:8080/",
          "height": 75
        },
        "id": "FHgakScqOuGk",
        "outputId": "8b6600ee-c335-450f-9e0b-62746d63bb8c"
      },
      "execution_count": null,
      "outputs": [
        {
          "output_type": "execute_result",
          "data": {
            "text/plain": [
              "DecisionTreeClassifier(random_state=42)"
            ],
            "text/html": [
              "<style>#sk-container-id-2 {color: black;background-color: white;}#sk-container-id-2 pre{padding: 0;}#sk-container-id-2 div.sk-toggleable {background-color: white;}#sk-container-id-2 label.sk-toggleable__label {cursor: pointer;display: block;width: 100%;margin-bottom: 0;padding: 0.3em;box-sizing: border-box;text-align: center;}#sk-container-id-2 label.sk-toggleable__label-arrow:before {content: \"▸\";float: left;margin-right: 0.25em;color: #696969;}#sk-container-id-2 label.sk-toggleable__label-arrow:hover:before {color: black;}#sk-container-id-2 div.sk-estimator:hover label.sk-toggleable__label-arrow:before {color: black;}#sk-container-id-2 div.sk-toggleable__content {max-height: 0;max-width: 0;overflow: hidden;text-align: left;background-color: #f0f8ff;}#sk-container-id-2 div.sk-toggleable__content pre {margin: 0.2em;color: black;border-radius: 0.25em;background-color: #f0f8ff;}#sk-container-id-2 input.sk-toggleable__control:checked~div.sk-toggleable__content {max-height: 200px;max-width: 100%;overflow: auto;}#sk-container-id-2 input.sk-toggleable__control:checked~label.sk-toggleable__label-arrow:before {content: \"▾\";}#sk-container-id-2 div.sk-estimator input.sk-toggleable__control:checked~label.sk-toggleable__label {background-color: #d4ebff;}#sk-container-id-2 div.sk-label input.sk-toggleable__control:checked~label.sk-toggleable__label {background-color: #d4ebff;}#sk-container-id-2 input.sk-hidden--visually {border: 0;clip: rect(1px 1px 1px 1px);clip: rect(1px, 1px, 1px, 1px);height: 1px;margin: -1px;overflow: hidden;padding: 0;position: absolute;width: 1px;}#sk-container-id-2 div.sk-estimator {font-family: monospace;background-color: #f0f8ff;border: 1px dotted black;border-radius: 0.25em;box-sizing: border-box;margin-bottom: 0.5em;}#sk-container-id-2 div.sk-estimator:hover {background-color: #d4ebff;}#sk-container-id-2 div.sk-parallel-item::after {content: \"\";width: 100%;border-bottom: 1px solid gray;flex-grow: 1;}#sk-container-id-2 div.sk-label:hover label.sk-toggleable__label {background-color: #d4ebff;}#sk-container-id-2 div.sk-serial::before {content: \"\";position: absolute;border-left: 1px solid gray;box-sizing: border-box;top: 0;bottom: 0;left: 50%;z-index: 0;}#sk-container-id-2 div.sk-serial {display: flex;flex-direction: column;align-items: center;background-color: white;padding-right: 0.2em;padding-left: 0.2em;position: relative;}#sk-container-id-2 div.sk-item {position: relative;z-index: 1;}#sk-container-id-2 div.sk-parallel {display: flex;align-items: stretch;justify-content: center;background-color: white;position: relative;}#sk-container-id-2 div.sk-item::before, #sk-container-id-2 div.sk-parallel-item::before {content: \"\";position: absolute;border-left: 1px solid gray;box-sizing: border-box;top: 0;bottom: 0;left: 50%;z-index: -1;}#sk-container-id-2 div.sk-parallel-item {display: flex;flex-direction: column;z-index: 1;position: relative;background-color: white;}#sk-container-id-2 div.sk-parallel-item:first-child::after {align-self: flex-end;width: 50%;}#sk-container-id-2 div.sk-parallel-item:last-child::after {align-self: flex-start;width: 50%;}#sk-container-id-2 div.sk-parallel-item:only-child::after {width: 0;}#sk-container-id-2 div.sk-dashed-wrapped {border: 1px dashed gray;margin: 0 0.4em 0.5em 0.4em;box-sizing: border-box;padding-bottom: 0.4em;background-color: white;}#sk-container-id-2 div.sk-label label {font-family: monospace;font-weight: bold;display: inline-block;line-height: 1.2em;}#sk-container-id-2 div.sk-label-container {text-align: center;}#sk-container-id-2 div.sk-container {/* jupyter's `normalize.less` sets `[hidden] { display: none; }` but bootstrap.min.css set `[hidden] { display: none !important; }` so we also need the `!important` here to be able to override the default hidden behavior on the sphinx rendered scikit-learn.org. See: https://github.com/scikit-learn/scikit-learn/issues/21755 */display: inline-block !important;position: relative;}#sk-container-id-2 div.sk-text-repr-fallback {display: none;}</style><div id=\"sk-container-id-2\" class=\"sk-top-container\"><div class=\"sk-text-repr-fallback\"><pre>DecisionTreeClassifier(random_state=42)</pre><b>In a Jupyter environment, please rerun this cell to show the HTML representation or trust the notebook. <br />On GitHub, the HTML representation is unable to render, please try loading this page with nbviewer.org.</b></div><div class=\"sk-container\" hidden><div class=\"sk-item\"><div class=\"sk-estimator sk-toggleable\"><input class=\"sk-toggleable__control sk-hidden--visually\" id=\"sk-estimator-id-2\" type=\"checkbox\" checked><label for=\"sk-estimator-id-2\" class=\"sk-toggleable__label sk-toggleable__label-arrow\">DecisionTreeClassifier</label><div class=\"sk-toggleable__content\"><pre>DecisionTreeClassifier(random_state=42)</pre></div></div></div></div></div>"
            ]
          },
          "metadata": {},
          "execution_count": 27
        }
      ]
    },
    {
      "cell_type": "code",
      "source": [
        "# Predictions and Evaluation\n",
        "y_pred_dt = dt_model.predict(X_test_scaled)\n",
        "print(\"Decision Tree Classification Report:\\n\", classification_report(y_test, y_pred_dt))\n",
        "print(\"Decision Tree ROC-AUC Score:\", roc_auc_score(y_test, y_pred_dt))"
      ],
      "metadata": {
        "colab": {
          "base_uri": "https://localhost:8080/"
        },
        "id": "2iqRbN-GOypt",
        "outputId": "3c30ff48-64b8-46f4-f41d-4248352fdf00"
      },
      "execution_count": null,
      "outputs": [
        {
          "output_type": "stream",
          "name": "stdout",
          "text": [
            "Decision Tree Classification Report:\n",
            "               precision    recall  f1-score   support\n",
            "\n",
            "           0       0.95      0.89      0.92       187\n",
            "           1       0.95      0.98      0.97       413\n",
            "\n",
            "    accuracy                           0.95       600\n",
            "   macro avg       0.95      0.94      0.94       600\n",
            "weighted avg       0.95      0.95      0.95       600\n",
            "\n",
            "Decision Tree ROC-AUC Score: 0.9368388341469099\n"
          ]
        }
      ]
    },
    {
      "cell_type": "code",
      "source": [
        "from sklearn.ensemble import RandomForestClassifier\n",
        "\n",
        "# Build Random Forest Model\n",
        "rf_model = RandomForestClassifier(random_state=42)\n",
        "rf_model.fit(X_train_scaled, y_train)\n",
        "\n",
        "# Predictions and Evaluation\n",
        "y_pred_rf = rf_model.predict(X_test_scaled)\n",
        "print(\"Random Forest Classification Report:\\n\", classification_report(y_test, y_pred_rf))\n",
        "print(\"Random Forest ROC-AUC Score:\", roc_auc_score(y_test, y_pred_rf))\n"
      ],
      "metadata": {
        "colab": {
          "base_uri": "https://localhost:8080/"
        },
        "id": "KU3gg-rXO6Ca",
        "outputId": "22ff8ae9-35b3-4033-9168-5d60afce4c83"
      },
      "execution_count": null,
      "outputs": [
        {
          "output_type": "stream",
          "name": "stdout",
          "text": [
            "Random Forest Classification Report:\n",
            "               precision    recall  f1-score   support\n",
            "\n",
            "           0       0.96      1.00      0.98       187\n",
            "           1       1.00      0.98      0.99       413\n",
            "\n",
            "    accuracy                           0.99       600\n",
            "   macro avg       0.98      0.99      0.98       600\n",
            "weighted avg       0.99      0.99      0.99       600\n",
            "\n",
            "Random Forest ROC-AUC Score: 0.9903147699757869\n"
          ]
        }
      ]
    },
    {
      "cell_type": "code",
      "source": [
        "from sklearn.linear_model import LogisticRegression\n",
        "\n",
        "# Build Logistic Regression Model\n",
        "lr_model = LogisticRegression(random_state=42)\n",
        "lr_model.fit(X_train_scaled, y_train)\n",
        "\n",
        "# Predictions and Evaluation\n",
        "y_pred_lr = lr_model.predict(X_test_scaled)\n",
        "print(\"Logistic Regression Classification Report:\\n\", classification_report(y_test, y_pred_lr))\n",
        "print(\"Logistic Regression ROC-AUC Score:\", roc_auc_score(y_test, y_pred_lr))\n"
      ],
      "metadata": {
        "colab": {
          "base_uri": "https://localhost:8080/"
        },
        "id": "ckSYoyacPkIK",
        "outputId": "1c414161-44f5-4852-9c32-afa446f695c6"
      },
      "execution_count": null,
      "outputs": [
        {
          "output_type": "stream",
          "name": "stdout",
          "text": [
            "Logistic Regression Classification Report:\n",
            "               precision    recall  f1-score   support\n",
            "\n",
            "           0       0.71      0.61      0.66       187\n",
            "           1       0.84      0.89      0.86       413\n",
            "\n",
            "    accuracy                           0.80       600\n",
            "   macro avg       0.77      0.75      0.76       600\n",
            "weighted avg       0.80      0.80      0.80       600\n",
            "\n",
            "Logistic Regression ROC-AUC Score: 0.7505859046237909\n"
          ]
        }
      ]
    },
    {
      "cell_type": "markdown",
      "source": [
        "# **Insights**"
      ],
      "metadata": {
        "id": "Ht2PiOpR02TF"
      }
    },
    {
      "cell_type": "markdown",
      "source": [
        "**After building and evaluating the models, we will compare their performance metrics to decide on the best model. For the sake of brevity, the code for SVM, GBM, k-NN, and Neural Networks is not included but can be similarly implemented and evaluated.**\n",
        "\n",
        "**By comparing the results, we can discuss the trade-offs and select the most suitable model for predicting flight cancellations. The selected model will then be used to generate actionable insights for Flyzy's business objectives.**"
      ],
      "metadata": {
        "id": "n3c9jLnM08RV"
      }
    }
  ]
}