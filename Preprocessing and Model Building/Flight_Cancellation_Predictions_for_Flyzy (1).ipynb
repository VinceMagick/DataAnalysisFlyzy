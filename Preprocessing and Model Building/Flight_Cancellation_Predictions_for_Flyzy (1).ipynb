{
  "nbformat": 4,
  "nbformat_minor": 0,
  "metadata": {
    "colab": {
      "provenance": [],
      "collapsed_sections": [
        "5Nbai6RfU92c",
        "OJbfSQJ4Vzmx",
        "hN5RfJ_MgQ8W",
        "DKBRAZkVgZii",
        "SYFoM8D5cw8U",
        "_KobuoLLkTqN",
        "iZhJlTTeljuB"
      ]
    },
    "kernelspec": {
      "name": "python3",
      "display_name": "Python 3"
    },
    "language_info": {
      "name": "python"
    }
  },
  "cells": [
    {
      "cell_type": "markdown",
      "source": [
        "# **Flight Cancellation Predictions for Flyzy**"
      ],
      "metadata": {
        "id": "wjX-YXsTl2uT"
      }
    },
    {
      "cell_type": "markdown",
      "source": [
        "**The purpose of this model is to predict flight cancellations. Below is a structured approach that includes data preprocessing, model building, and evaluation.**"
      ],
      "metadata": {
        "id": "fTuiYU0fUf3X"
      }
    },
    {
      "cell_type": "markdown",
      "source": [
        "## **1. Data Preprocessing**\n",
        "\n"
      ],
      "metadata": {
        "id": "5Nbai6RfU92c"
      }
    },
    {
      "cell_type": "markdown",
      "source": [
        "### **1.1 Load the Dataset**"
      ],
      "metadata": {
        "id": "l3iTRBitoREv"
      }
    },
    {
      "cell_type": "code",
      "source": [
        "import pandas as pd\n",
        "from sklearn.model_selection import train_test_split\n",
        "from sklearn.preprocessing import StandardScaler, OneHotEncoder\n",
        "from sklearn.compose import ColumnTransformer\n",
        "from sklearn.pipeline import Pipeline\n",
        "from sklearn.linear_model import LogisticRegression\n",
        "from sklearn.metrics import accuracy_score, precision_score, recall_score, f1_score, roc_auc_score\n"
      ],
      "metadata": {
        "id": "ynIsZ5mfVGx5"
      },
      "execution_count": null,
      "outputs": []
    },
    {
      "cell_type": "code",
      "source": [
        "# Loading the dataset\n",
        "\n",
        "df = pd.read_excel(r\"/content/Flyzy Flight Cancellation.xlsx\")"
      ],
      "metadata": {
        "id": "ulspbD4nU9Up"
      },
      "execution_count": null,
      "outputs": []
    },
    {
      "cell_type": "markdown",
      "source": [
        "### **1.2 Encoding Categorical Variables**\n",
        "\n",
        "**Since machine learning models require numerical inputs, I have encoded categorical variables (Airline, Origin_Airport, Destination_Airport, and Airplane_Type) using techniques like one-hot encoding or label encoding.**"
      ],
      "metadata": {
        "id": "OJbfSQJ4Vzmx"
      }
    },
    {
      "cell_type": "code",
      "source": [
        "print(df.head())"
      ],
      "metadata": {
        "colab": {
          "base_uri": "https://localhost:8080/"
        },
        "id": "48UHyRGcVzAf",
        "outputId": "2b83565f-8ce0-4313-bced-68dda4d9ee00"
      },
      "execution_count": null,
      "outputs": [
        {
          "output_type": "stream",
          "name": "stdout",
          "text": [
            "   Flight ID    Airline  Flight_Distance Origin_Airport Destination_Airport  \\\n",
            "0    7319483  Airline D              475      Airport 3           Airport 2   \n",
            "1    4791965  Airline E              538      Airport 5           Airport 4   \n",
            "2    2991718  Airline C              565      Airport 1           Airport 2   \n",
            "3    4220106  Airline E              658      Airport 5           Airport 3   \n",
            "4    2263008  Airline E              566      Airport 2           Airport 2   \n",
            "\n",
            "   Scheduled_Departure_Time  Day_of_Week  Month Airplane_Type  Weather_Score  \\\n",
            "0                         4            6      1        Type C       0.225122   \n",
            "1                        12            1      6        Type B       0.060346   \n",
            "2                        17            3      9        Type C       0.093920   \n",
            "3                         1            1      8        Type B       0.656750   \n",
            "4                        19            7     12        Type E       0.505211   \n",
            "\n",
            "   Previous_Flight_Delay_Minutes  Airline_Rating  Passenger_Load  \\\n",
            "0                            5.0        2.151974        0.477202   \n",
            "1                           68.0        1.600779        0.159718   \n",
            "2                           18.0        4.406848        0.256803   \n",
            "3                           13.0        0.998757        0.504077   \n",
            "4                            4.0        3.806206        0.019638   \n",
            "\n",
            "   Flight_Cancelled  \n",
            "0                 0  \n",
            "1                 1  \n",
            "2                 0  \n",
            "3                 1  \n",
            "4                 0  \n"
          ]
        }
      ]
    },
    {
      "cell_type": "code",
      "source": [
        "# Separate the target variable and features\n",
        "X = df.drop(columns=['Flight_Cancelled'])  # Drop only the target column\n",
        "y = df['Flight_Cancelled']"
      ],
      "metadata": {
        "id": "Skix9bzgU1eO"
      },
      "execution_count": null,
      "outputs": []
    },
    {
      "cell_type": "markdown",
      "source": [
        "### **1.3 Splitting the Dataset**\n",
        "\n",
        "**I have split the dataset into training and testing sets to evaluate the model's performance on unseen data.**"
      ],
      "metadata": {
        "id": "07qkGHWxgCpA"
      }
    },
    {
      "cell_type": "code",
      "source": [
        "# Split the dataset into training and testing sets\n",
        "X_train, X_test, y_train, y_test = train_test_split(X, y, test_size=0.2, random_state=42)"
      ],
      "metadata": {
        "id": "zaO7xsTTZygP"
      },
      "execution_count": null,
      "outputs": []
    },
    {
      "cell_type": "markdown",
      "source": [
        "## **2. Model Building**\n",
        "\n"
      ],
      "metadata": {
        "id": "hN5RfJ_MgQ8W"
      }
    },
    {
      "cell_type": "markdown",
      "source": [
        "### **2.1 Logistic Regression**\n",
        "\n",
        "**I have used Logistic Regression, a common algorithm for binary classification problems, to build the model.**"
      ],
      "metadata": {
        "id": "0ReoUxPJmqBV"
      }
    },
    {
      "cell_type": "code",
      "source": [
        "# Identify categorical and numerical columns\n",
        "categorical_cols = ['Airline', 'Origin_Airport', 'Destination_Airport', 'Airplane_Type']\n",
        "numerical_cols = [col for col in X.columns if col not in categorical_cols]"
      ],
      "metadata": {
        "id": "HoHNX_MdZ54q"
      },
      "execution_count": null,
      "outputs": []
    },
    {
      "cell_type": "code",
      "source": [
        "# Create a column transformer with one-hot encoding for categorical variables and standard scaling for numerical variables\n",
        "preprocessor = ColumnTransformer(\n",
        "    transformers=[\n",
        "        ('num', StandardScaler(), numerical_cols),\n",
        "        ('cat', OneHotEncoder(), categorical_cols)\n",
        "    ])"
      ],
      "metadata": {
        "id": "pPyL6XAMaQhB"
      },
      "execution_count": null,
      "outputs": []
    },
    {
      "cell_type": "code",
      "source": [
        "# A pipeline that first applies the preprocessor and then fits the Logistic Regression model\n",
        "model = Pipeline(steps=[\n",
        "    ('preprocessor', preprocessor),\n",
        "    ('classifier', LogisticRegression(random_state=42))\n",
        "])"
      ],
      "metadata": {
        "id": "6ckml7TRaVcL"
      },
      "execution_count": null,
      "outputs": []
    },
    {
      "cell_type": "code",
      "source": [
        "# Train the model\n",
        "model.fit(X_train, y_train)"
      ],
      "metadata": {
        "colab": {
          "base_uri": "https://localhost:8080/",
          "height": 192
        },
        "id": "IDEeSNR0aY-j",
        "outputId": "094179e6-17b5-4efd-d3ac-e9d9a6db941e"
      },
      "execution_count": null,
      "outputs": [
        {
          "output_type": "execute_result",
          "data": {
            "text/plain": [
              "Pipeline(steps=[('preprocessor',\n",
              "                 ColumnTransformer(transformers=[('num', StandardScaler(),\n",
              "                                                  ['Flight ID',\n",
              "                                                   'Flight_Distance',\n",
              "                                                   'Scheduled_Departure_Time',\n",
              "                                                   'Day_of_Week', 'Month',\n",
              "                                                   'Weather_Score',\n",
              "                                                   'Previous_Flight_Delay_Minutes',\n",
              "                                                   'Airline_Rating',\n",
              "                                                   'Passenger_Load']),\n",
              "                                                 ('cat', OneHotEncoder(),\n",
              "                                                  ['Airline', 'Origin_Airport',\n",
              "                                                   'Destination_Airport',\n",
              "                                                   'Airplane_Type'])])),\n",
              "                ('classifier', LogisticRegression(random_state=42))])"
            ],
            "text/html": [
              "<style>#sk-container-id-4 {color: black;background-color: white;}#sk-container-id-4 pre{padding: 0;}#sk-container-id-4 div.sk-toggleable {background-color: white;}#sk-container-id-4 label.sk-toggleable__label {cursor: pointer;display: block;width: 100%;margin-bottom: 0;padding: 0.3em;box-sizing: border-box;text-align: center;}#sk-container-id-4 label.sk-toggleable__label-arrow:before {content: \"▸\";float: left;margin-right: 0.25em;color: #696969;}#sk-container-id-4 label.sk-toggleable__label-arrow:hover:before {color: black;}#sk-container-id-4 div.sk-estimator:hover label.sk-toggleable__label-arrow:before {color: black;}#sk-container-id-4 div.sk-toggleable__content {max-height: 0;max-width: 0;overflow: hidden;text-align: left;background-color: #f0f8ff;}#sk-container-id-4 div.sk-toggleable__content pre {margin: 0.2em;color: black;border-radius: 0.25em;background-color: #f0f8ff;}#sk-container-id-4 input.sk-toggleable__control:checked~div.sk-toggleable__content {max-height: 200px;max-width: 100%;overflow: auto;}#sk-container-id-4 input.sk-toggleable__control:checked~label.sk-toggleable__label-arrow:before {content: \"▾\";}#sk-container-id-4 div.sk-estimator input.sk-toggleable__control:checked~label.sk-toggleable__label {background-color: #d4ebff;}#sk-container-id-4 div.sk-label input.sk-toggleable__control:checked~label.sk-toggleable__label {background-color: #d4ebff;}#sk-container-id-4 input.sk-hidden--visually {border: 0;clip: rect(1px 1px 1px 1px);clip: rect(1px, 1px, 1px, 1px);height: 1px;margin: -1px;overflow: hidden;padding: 0;position: absolute;width: 1px;}#sk-container-id-4 div.sk-estimator {font-family: monospace;background-color: #f0f8ff;border: 1px dotted black;border-radius: 0.25em;box-sizing: border-box;margin-bottom: 0.5em;}#sk-container-id-4 div.sk-estimator:hover {background-color: #d4ebff;}#sk-container-id-4 div.sk-parallel-item::after {content: \"\";width: 100%;border-bottom: 1px solid gray;flex-grow: 1;}#sk-container-id-4 div.sk-label:hover label.sk-toggleable__label {background-color: #d4ebff;}#sk-container-id-4 div.sk-serial::before {content: \"\";position: absolute;border-left: 1px solid gray;box-sizing: border-box;top: 0;bottom: 0;left: 50%;z-index: 0;}#sk-container-id-4 div.sk-serial {display: flex;flex-direction: column;align-items: center;background-color: white;padding-right: 0.2em;padding-left: 0.2em;position: relative;}#sk-container-id-4 div.sk-item {position: relative;z-index: 1;}#sk-container-id-4 div.sk-parallel {display: flex;align-items: stretch;justify-content: center;background-color: white;position: relative;}#sk-container-id-4 div.sk-item::before, #sk-container-id-4 div.sk-parallel-item::before {content: \"\";position: absolute;border-left: 1px solid gray;box-sizing: border-box;top: 0;bottom: 0;left: 50%;z-index: -1;}#sk-container-id-4 div.sk-parallel-item {display: flex;flex-direction: column;z-index: 1;position: relative;background-color: white;}#sk-container-id-4 div.sk-parallel-item:first-child::after {align-self: flex-end;width: 50%;}#sk-container-id-4 div.sk-parallel-item:last-child::after {align-self: flex-start;width: 50%;}#sk-container-id-4 div.sk-parallel-item:only-child::after {width: 0;}#sk-container-id-4 div.sk-dashed-wrapped {border: 1px dashed gray;margin: 0 0.4em 0.5em 0.4em;box-sizing: border-box;padding-bottom: 0.4em;background-color: white;}#sk-container-id-4 div.sk-label label {font-family: monospace;font-weight: bold;display: inline-block;line-height: 1.2em;}#sk-container-id-4 div.sk-label-container {text-align: center;}#sk-container-id-4 div.sk-container {/* jupyter's `normalize.less` sets `[hidden] { display: none; }` but bootstrap.min.css set `[hidden] { display: none !important; }` so we also need the `!important` here to be able to override the default hidden behavior on the sphinx rendered scikit-learn.org. See: https://github.com/scikit-learn/scikit-learn/issues/21755 */display: inline-block !important;position: relative;}#sk-container-id-4 div.sk-text-repr-fallback {display: none;}</style><div id=\"sk-container-id-4\" class=\"sk-top-container\"><div class=\"sk-text-repr-fallback\"><pre>Pipeline(steps=[(&#x27;preprocessor&#x27;,\n",
              "                 ColumnTransformer(transformers=[(&#x27;num&#x27;, StandardScaler(),\n",
              "                                                  [&#x27;Flight ID&#x27;,\n",
              "                                                   &#x27;Flight_Distance&#x27;,\n",
              "                                                   &#x27;Scheduled_Departure_Time&#x27;,\n",
              "                                                   &#x27;Day_of_Week&#x27;, &#x27;Month&#x27;,\n",
              "                                                   &#x27;Weather_Score&#x27;,\n",
              "                                                   &#x27;Previous_Flight_Delay_Minutes&#x27;,\n",
              "                                                   &#x27;Airline_Rating&#x27;,\n",
              "                                                   &#x27;Passenger_Load&#x27;]),\n",
              "                                                 (&#x27;cat&#x27;, OneHotEncoder(),\n",
              "                                                  [&#x27;Airline&#x27;, &#x27;Origin_Airport&#x27;,\n",
              "                                                   &#x27;Destination_Airport&#x27;,\n",
              "                                                   &#x27;Airplane_Type&#x27;])])),\n",
              "                (&#x27;classifier&#x27;, LogisticRegression(random_state=42))])</pre><b>In a Jupyter environment, please rerun this cell to show the HTML representation or trust the notebook. <br />On GitHub, the HTML representation is unable to render, please try loading this page with nbviewer.org.</b></div><div class=\"sk-container\" hidden><div class=\"sk-item sk-dashed-wrapped\"><div class=\"sk-label-container\"><div class=\"sk-label sk-toggleable\"><input class=\"sk-toggleable__control sk-hidden--visually\" id=\"sk-estimator-id-24\" type=\"checkbox\" ><label for=\"sk-estimator-id-24\" class=\"sk-toggleable__label sk-toggleable__label-arrow\">Pipeline</label><div class=\"sk-toggleable__content\"><pre>Pipeline(steps=[(&#x27;preprocessor&#x27;,\n",
              "                 ColumnTransformer(transformers=[(&#x27;num&#x27;, StandardScaler(),\n",
              "                                                  [&#x27;Flight ID&#x27;,\n",
              "                                                   &#x27;Flight_Distance&#x27;,\n",
              "                                                   &#x27;Scheduled_Departure_Time&#x27;,\n",
              "                                                   &#x27;Day_of_Week&#x27;, &#x27;Month&#x27;,\n",
              "                                                   &#x27;Weather_Score&#x27;,\n",
              "                                                   &#x27;Previous_Flight_Delay_Minutes&#x27;,\n",
              "                                                   &#x27;Airline_Rating&#x27;,\n",
              "                                                   &#x27;Passenger_Load&#x27;]),\n",
              "                                                 (&#x27;cat&#x27;, OneHotEncoder(),\n",
              "                                                  [&#x27;Airline&#x27;, &#x27;Origin_Airport&#x27;,\n",
              "                                                   &#x27;Destination_Airport&#x27;,\n",
              "                                                   &#x27;Airplane_Type&#x27;])])),\n",
              "                (&#x27;classifier&#x27;, LogisticRegression(random_state=42))])</pre></div></div></div><div class=\"sk-serial\"><div class=\"sk-item sk-dashed-wrapped\"><div class=\"sk-label-container\"><div class=\"sk-label sk-toggleable\"><input class=\"sk-toggleable__control sk-hidden--visually\" id=\"sk-estimator-id-25\" type=\"checkbox\" ><label for=\"sk-estimator-id-25\" class=\"sk-toggleable__label sk-toggleable__label-arrow\">preprocessor: ColumnTransformer</label><div class=\"sk-toggleable__content\"><pre>ColumnTransformer(transformers=[(&#x27;num&#x27;, StandardScaler(),\n",
              "                                 [&#x27;Flight ID&#x27;, &#x27;Flight_Distance&#x27;,\n",
              "                                  &#x27;Scheduled_Departure_Time&#x27;, &#x27;Day_of_Week&#x27;,\n",
              "                                  &#x27;Month&#x27;, &#x27;Weather_Score&#x27;,\n",
              "                                  &#x27;Previous_Flight_Delay_Minutes&#x27;,\n",
              "                                  &#x27;Airline_Rating&#x27;, &#x27;Passenger_Load&#x27;]),\n",
              "                                (&#x27;cat&#x27;, OneHotEncoder(),\n",
              "                                 [&#x27;Airline&#x27;, &#x27;Origin_Airport&#x27;,\n",
              "                                  &#x27;Destination_Airport&#x27;, &#x27;Airplane_Type&#x27;])])</pre></div></div></div><div class=\"sk-parallel\"><div class=\"sk-parallel-item\"><div class=\"sk-item\"><div class=\"sk-label-container\"><div class=\"sk-label sk-toggleable\"><input class=\"sk-toggleable__control sk-hidden--visually\" id=\"sk-estimator-id-26\" type=\"checkbox\" ><label for=\"sk-estimator-id-26\" class=\"sk-toggleable__label sk-toggleable__label-arrow\">num</label><div class=\"sk-toggleable__content\"><pre>[&#x27;Flight ID&#x27;, &#x27;Flight_Distance&#x27;, &#x27;Scheduled_Departure_Time&#x27;, &#x27;Day_of_Week&#x27;, &#x27;Month&#x27;, &#x27;Weather_Score&#x27;, &#x27;Previous_Flight_Delay_Minutes&#x27;, &#x27;Airline_Rating&#x27;, &#x27;Passenger_Load&#x27;]</pre></div></div></div><div class=\"sk-serial\"><div class=\"sk-item\"><div class=\"sk-estimator sk-toggleable\"><input class=\"sk-toggleable__control sk-hidden--visually\" id=\"sk-estimator-id-27\" type=\"checkbox\" ><label for=\"sk-estimator-id-27\" class=\"sk-toggleable__label sk-toggleable__label-arrow\">StandardScaler</label><div class=\"sk-toggleable__content\"><pre>StandardScaler()</pre></div></div></div></div></div></div><div class=\"sk-parallel-item\"><div class=\"sk-item\"><div class=\"sk-label-container\"><div class=\"sk-label sk-toggleable\"><input class=\"sk-toggleable__control sk-hidden--visually\" id=\"sk-estimator-id-28\" type=\"checkbox\" ><label for=\"sk-estimator-id-28\" class=\"sk-toggleable__label sk-toggleable__label-arrow\">cat</label><div class=\"sk-toggleable__content\"><pre>[&#x27;Airline&#x27;, &#x27;Origin_Airport&#x27;, &#x27;Destination_Airport&#x27;, &#x27;Airplane_Type&#x27;]</pre></div></div></div><div class=\"sk-serial\"><div class=\"sk-item\"><div class=\"sk-estimator sk-toggleable\"><input class=\"sk-toggleable__control sk-hidden--visually\" id=\"sk-estimator-id-29\" type=\"checkbox\" ><label for=\"sk-estimator-id-29\" class=\"sk-toggleable__label sk-toggleable__label-arrow\">OneHotEncoder</label><div class=\"sk-toggleable__content\"><pre>OneHotEncoder()</pre></div></div></div></div></div></div></div></div><div class=\"sk-item\"><div class=\"sk-estimator sk-toggleable\"><input class=\"sk-toggleable__control sk-hidden--visually\" id=\"sk-estimator-id-30\" type=\"checkbox\" ><label for=\"sk-estimator-id-30\" class=\"sk-toggleable__label sk-toggleable__label-arrow\">LogisticRegression</label><div class=\"sk-toggleable__content\"><pre>LogisticRegression(random_state=42)</pre></div></div></div></div></div></div></div>"
            ]
          },
          "metadata": {},
          "execution_count": 59
        }
      ]
    },
    {
      "cell_type": "code",
      "source": [
        "# Make predictions on the test set\n",
        "y_pred = model.predict(X_test)"
      ],
      "metadata": {
        "id": "Z1ac5J-_abSy"
      },
      "execution_count": null,
      "outputs": []
    },
    {
      "cell_type": "markdown",
      "source": [
        "## **3. Model Evaluation**\n",
        "\n"
      ],
      "metadata": {
        "id": "DKBRAZkVgZii"
      }
    },
    {
      "cell_type": "markdown",
      "source": [
        "### **3.1 Evaluate the Model**\n",
        "\n",
        "**This is the evaluation of the model using appropriate metrics such as accuracy, precision, recall, F1-score, and ROC-AUC score**"
      ],
      "metadata": {
        "id": "4M112H7snIj4"
      }
    },
    {
      "cell_type": "code",
      "source": [
        "# Evaluate the model\n",
        "accuracy = accuracy_score(y_test, y_pred)\n",
        "precision = precision_score(y_test, y_pred)\n",
        "recall = recall_score(y_test, y_pred)\n",
        "f1 = f1_score(y_test, y_pred)\n",
        "roc_auc = roc_auc_score(y_test, y_pred)"
      ],
      "metadata": {
        "id": "c0gZuQCrafDl"
      },
      "execution_count": null,
      "outputs": []
    },
    {
      "cell_type": "code",
      "source": [
        "# Print the evaluation metrics\n",
        "print(f'Accuracy: {accuracy:.2f}')\n",
        "print(f'Precision: {precision:.2f}')\n",
        "print(f'Recall: {recall:.2f}')\n",
        "print(f'F1 Score: {f1:.2f}')\n",
        "print(f'ROC-AUC Score: {roc_auc:.2f}')"
      ],
      "metadata": {
        "colab": {
          "base_uri": "https://localhost:8080/"
        },
        "id": "vUGzhaOfahv2",
        "outputId": "e2688872-25a8-43b5-f126-4a86cdbe6e72"
      },
      "execution_count": null,
      "outputs": [
        {
          "output_type": "stream",
          "name": "stdout",
          "text": [
            "Accuracy: 0.80\n",
            "Precision: 0.84\n",
            "Recall: 0.89\n",
            "F1 Score: 0.86\n",
            "ROC-AUC Score: 0.75\n"
          ]
        }
      ]
    },
    {
      "cell_type": "markdown",
      "source": [
        "## **Refining the model**"
      ],
      "metadata": {
        "id": "SYFoM8D5cw8U"
      }
    },
    {
      "cell_type": "markdown",
      "source": [
        "### **To improve the accuracy of the Logistic Regression model, I have performed several enhancements.**\n",
        "\n"
      ],
      "metadata": {
        "id": "TRPjNNoGhOTZ"
      }
    },
    {
      "cell_type": "markdown",
      "source": [
        "**Hyperparameter Tuning:**\n",
        "\n",
        "  Optimized the hyperparameters of the Logistic Regression model using techniques like GridSearchCV.\n",
        "\n",
        "**Feature Engineering:**\n",
        "\n",
        "  Created new features and transformed existing features to provide the model with more informative data.\n",
        "\n",
        "**Handling Class Imbalance:**\n",
        "\n",
        "  If there is an imbalance in the target classes, I will use techniques like SMOTE (Synthetic Minority Over-sampling Technique) or class weights to address it.\n",
        "\n",
        "**Feature Selection:**\n",
        "\n",
        "  Select the most important features to reduce noise and improve model performance.\n",
        "\n",
        "**Additional Models:**\n",
        "\n",
        "  Explore other models like Random Forest, Gradient Boosting, or XGBoost to see if they perform better than Logistic Regression.\n",
        "\n",
        "I have implemented hyperparameter tuning using GridSearchCV to find the best parameters for Logistic Regression."
      ],
      "metadata": {
        "id": "08vhjhQoo2A-"
      }
    },
    {
      "cell_type": "code",
      "source": [
        "import pandas as pd\n",
        "from sklearn.model_selection import train_test_split, GridSearchCV\n",
        "from sklearn.preprocessing import StandardScaler, OneHotEncoder\n",
        "from sklearn.compose import ColumnTransformer\n",
        "from sklearn.pipeline import Pipeline\n",
        "from sklearn.linear_model import LogisticRegression\n",
        "from sklearn.metrics import accuracy_score, precision_score, recall_score, f1_score, roc_auc_score\n",
        "from sklearn.impute import SimpleImputer\n"
      ],
      "metadata": {
        "id": "6jvetYY9c-5t"
      },
      "execution_count": null,
      "outputs": []
    },
    {
      "cell_type": "code",
      "source": [
        "# Display the first few rows to understand the data structure\n",
        "print(df.head())\n",
        "print(df.info())\n",
        "print(df.describe())"
      ],
      "metadata": {
        "colab": {
          "base_uri": "https://localhost:8080/"
        },
        "id": "P00Qtbr-eV5O",
        "outputId": "da329348-00c6-4d71-da07-c8bdd3f07f2f"
      },
      "execution_count": null,
      "outputs": [
        {
          "output_type": "stream",
          "name": "stdout",
          "text": [
            "   Flight ID    Airline  Flight_Distance Origin_Airport Destination_Airport  \\\n",
            "0    7319483  Airline D              475      Airport 3           Airport 2   \n",
            "1    4791965  Airline E              538      Airport 5           Airport 4   \n",
            "2    2991718  Airline C              565      Airport 1           Airport 2   \n",
            "3    4220106  Airline E              658      Airport 5           Airport 3   \n",
            "4    2263008  Airline E              566      Airport 2           Airport 2   \n",
            "\n",
            "   Scheduled_Departure_Time  Day_of_Week  Month Airplane_Type  Weather_Score  \\\n",
            "0                         4            6      1        Type C       0.225122   \n",
            "1                        12            1      6        Type B       0.060346   \n",
            "2                        17            3      9        Type C       0.093920   \n",
            "3                         1            1      8        Type B       0.656750   \n",
            "4                        19            7     12        Type E       0.505211   \n",
            "\n",
            "   Previous_Flight_Delay_Minutes  Airline_Rating  Passenger_Load  \\\n",
            "0                            5.0        2.151974        0.477202   \n",
            "1                           68.0        1.600779        0.159718   \n",
            "2                           18.0        4.406848        0.256803   \n",
            "3                           13.0        0.998757        0.504077   \n",
            "4                            4.0        3.806206        0.019638   \n",
            "\n",
            "   Flight_Cancelled  \n",
            "0                 0  \n",
            "1                 1  \n",
            "2                 0  \n",
            "3                 1  \n",
            "4                 0  \n",
            "<class 'pandas.core.frame.DataFrame'>\n",
            "RangeIndex: 3000 entries, 0 to 2999\n",
            "Data columns (total 14 columns):\n",
            " #   Column                         Non-Null Count  Dtype  \n",
            "---  ------                         --------------  -----  \n",
            " 0   Flight ID                      3000 non-null   int64  \n",
            " 1   Airline                        3000 non-null   object \n",
            " 2   Flight_Distance                3000 non-null   int64  \n",
            " 3   Origin_Airport                 3000 non-null   object \n",
            " 4   Destination_Airport            3000 non-null   object \n",
            " 5   Scheduled_Departure_Time       3000 non-null   int64  \n",
            " 6   Day_of_Week                    3000 non-null   int64  \n",
            " 7   Month                          3000 non-null   int64  \n",
            " 8   Airplane_Type                  3000 non-null   object \n",
            " 9   Weather_Score                  3000 non-null   float64\n",
            " 10  Previous_Flight_Delay_Minutes  3000 non-null   float64\n",
            " 11  Airline_Rating                 3000 non-null   float64\n",
            " 12  Passenger_Load                 3000 non-null   float64\n",
            " 13  Flight_Cancelled               3000 non-null   int64  \n",
            "dtypes: float64(4), int64(6), object(4)\n",
            "memory usage: 328.2+ KB\n",
            "None\n",
            "          Flight ID  Flight_Distance  Scheduled_Departure_Time  Day_of_Week  \\\n",
            "count  3.000000e+03      3000.000000               3000.000000  3000.000000   \n",
            "mean   4.997429e+06       498.909333                 11.435000     3.963000   \n",
            "std    2.868139e+06        98.892266                  6.899298     2.016346   \n",
            "min    3.681000e+03       138.000000                  0.000000     1.000000   \n",
            "25%    2.520313e+06       431.000000                  6.000000     2.000000   \n",
            "50%    5.073096e+06       497.000000                 12.000000     4.000000   \n",
            "75%    7.462026e+06       566.000000                 17.000000     6.000000   \n",
            "max    9.999011e+06       864.000000                 23.000000     7.000000   \n",
            "\n",
            "             Month  Weather_Score  Previous_Flight_Delay_Minutes  \\\n",
            "count  3000.000000    3000.000000                    3000.000000   \n",
            "mean      6.381000       0.524023                      26.793383   \n",
            "std       3.473979       0.290694                      27.874733   \n",
            "min       1.000000       0.000965                       0.000000   \n",
            "25%       3.000000       0.278011                       7.000000   \n",
            "50%       6.000000       0.522180                      18.000000   \n",
            "75%       9.000000       0.776323                      38.000000   \n",
            "max      12.000000       1.099246                     259.000000   \n",
            "\n",
            "       Airline_Rating  Passenger_Load  Flight_Cancelled  \n",
            "count     3000.000000     3000.000000       3000.000000  \n",
            "mean         2.317439        0.515885          0.690667  \n",
            "std          1.430386        0.295634          0.462296  \n",
            "min          0.000103        0.001039          0.000000  \n",
            "25%          1.092902        0.265793          0.000000  \n",
            "50%          2.126614        0.517175          1.000000  \n",
            "75%          3.525746        0.770370          1.000000  \n",
            "max          5.189038        1.123559          1.000000  \n"
          ]
        }
      ]
    },
    {
      "cell_type": "markdown",
      "source": [
        "### **Handle Missing Values: Impute or drop missing values.**\n"
      ],
      "metadata": {
        "id": "8TjDKonok7p5"
      }
    },
    {
      "cell_type": "code",
      "source": [
        "# Check for missing values\n",
        "print(df.isnull().sum())"
      ],
      "metadata": {
        "colab": {
          "base_uri": "https://localhost:8080/"
        },
        "id": "PwglyotEeYfI",
        "outputId": "c9f579f2-0fd1-4409-92e8-820a6106e286"
      },
      "execution_count": null,
      "outputs": [
        {
          "output_type": "stream",
          "name": "stdout",
          "text": [
            "Flight ID                        0\n",
            "Airline                          0\n",
            "Flight_Distance                  0\n",
            "Origin_Airport                   0\n",
            "Destination_Airport              0\n",
            "Scheduled_Departure_Time         0\n",
            "Day_of_Week                      0\n",
            "Month                            0\n",
            "Airplane_Type                    0\n",
            "Weather_Score                    0\n",
            "Previous_Flight_Delay_Minutes    0\n",
            "Airline_Rating                   0\n",
            "Passenger_Load                   0\n",
            "Flight_Cancelled                 0\n",
            "dtype: int64\n"
          ]
        }
      ]
    },
    {
      "cell_type": "code",
      "source": [
        "# Handling missing values\n",
        "# Impute missing values for numerical columns with mean and categorical columns with mode\n",
        "numerical_cols = df.select_dtypes(include=['float64', 'int64']).columns\n",
        "categorical_cols = df.select_dtypes(include=['object', 'category']).columns"
      ],
      "metadata": {
        "id": "pl4XIQB4efj1"
      },
      "execution_count": null,
      "outputs": []
    },
    {
      "cell_type": "code",
      "source": [
        "imputer_num = SimpleImputer(strategy='mean')\n",
        "df[numerical_cols] = imputer_num.fit_transform(df[numerical_cols])"
      ],
      "metadata": {
        "id": "zIfBpHgQejMG"
      },
      "execution_count": null,
      "outputs": []
    },
    {
      "cell_type": "code",
      "source": [
        "imputer_cat = SimpleImputer(strategy='most_frequent')\n",
        "df[categorical_cols] = imputer_cat.fit_transform(df[categorical_cols])"
      ],
      "metadata": {
        "id": "aOLWiGmcemEJ"
      },
      "execution_count": null,
      "outputs": []
    },
    {
      "cell_type": "code",
      "source": [
        "# Verify that there are no more missing values\n",
        "print(df.isnull().sum())"
      ],
      "metadata": {
        "colab": {
          "base_uri": "https://localhost:8080/"
        },
        "id": "w1yJM7oTeqFa",
        "outputId": "5916e5b7-0df6-41e5-8b8c-d9b8909e6f1a"
      },
      "execution_count": null,
      "outputs": [
        {
          "output_type": "stream",
          "name": "stdout",
          "text": [
            "Flight ID                        0\n",
            "Airline                          0\n",
            "Flight_Distance                  0\n",
            "Origin_Airport                   0\n",
            "Destination_Airport              0\n",
            "Scheduled_Departure_Time         0\n",
            "Day_of_Week                      0\n",
            "Month                            0\n",
            "Airplane_Type                    0\n",
            "Weather_Score                    0\n",
            "Previous_Flight_Delay_Minutes    0\n",
            "Airline_Rating                   0\n",
            "Passenger_Load                   0\n",
            "Flight_Cancelled                 0\n",
            "dtype: int64\n"
          ]
        }
      ]
    },
    {
      "cell_type": "markdown",
      "source": [
        "### **Check for Duplicates**"
      ],
      "metadata": {
        "id": "YsNItJs-lDHi"
      }
    },
    {
      "cell_type": "code",
      "source": [
        "# Check for duplicates and remove if any\n",
        "df.drop_duplicates(inplace=True)"
      ],
      "metadata": {
        "id": "jBQHgNlKet0e"
      },
      "execution_count": null,
      "outputs": []
    },
    {
      "cell_type": "code",
      "source": [
        "# Feature Engineering\n",
        "# Assuming no additional features are required at this step\n",
        "\n",
        "# Separate the target variable and features\n",
        "X = df.drop(columns=['Flight_Cancelled'])\n",
        "y = df['Flight_Cancelled']"
      ],
      "metadata": {
        "id": "IkY_ke3we23J"
      },
      "execution_count": null,
      "outputs": []
    },
    {
      "cell_type": "code",
      "source": [
        "# Split the dataset into training and testing sets\n",
        "X_train, X_test, y_train, y_test = train_test_split(X, y, test_size=0.2, random_state=42)"
      ],
      "metadata": {
        "id": "KTBQUMS3fMFg"
      },
      "execution_count": null,
      "outputs": []
    },
    {
      "cell_type": "code",
      "source": [
        "# Identify categorical and numerical columns\n",
        "categorical_cols = ['Airline', 'Origin_Airport', 'Destination_Airport', 'Airplane_Type']\n",
        "numerical_cols = [col for col in X.columns if col not in categorical_cols]"
      ],
      "metadata": {
        "id": "3WTfmUZmfRNb"
      },
      "execution_count": null,
      "outputs": []
    },
    {
      "cell_type": "code",
      "source": [
        "# Create a column transformer with one-hot encoding for categorical variables and standard scaling for numerical variables\n",
        "preprocessor = ColumnTransformer(\n",
        "    transformers=[\n",
        "        ('num', StandardScaler(), numerical_cols),\n",
        "        ('cat', OneHotEncoder(), categorical_cols)\n",
        "    ])"
      ],
      "metadata": {
        "id": "7nMdyZdgfVgM"
      },
      "execution_count": null,
      "outputs": []
    },
    {
      "cell_type": "code",
      "source": [
        "# Create a pipeline that first applies the preprocessor and then fits the Logistic Regression model\n",
        "pipeline = Pipeline(steps=[\n",
        "    ('preprocessor', preprocessor),\n",
        "    ('classifier', LogisticRegression(random_state=42))\n",
        "])\n"
      ],
      "metadata": {
        "id": "UXjquCFXdL9O"
      },
      "execution_count": null,
      "outputs": []
    },
    {
      "cell_type": "markdown",
      "source": [
        "## **Improved Model with Hyperparameter Tuning**"
      ],
      "metadata": {
        "id": "_KobuoLLkTqN"
      }
    },
    {
      "cell_type": "code",
      "source": [
        "# Define the hyperparameters for GridSearchCV\n",
        "param_grid = {\n",
        "    'classifier__C': [0.01, 0.1, 1, 10, 100],\n",
        "    'classifier__penalty': ['l1', 'l2'],\n",
        "    'classifier__solver': ['liblinear']\n",
        "}"
      ],
      "metadata": {
        "id": "jASckPwsakN9"
      },
      "execution_count": null,
      "outputs": []
    },
    {
      "cell_type": "code",
      "source": [
        "# Implement GridSearchCV\n",
        "grid_search = GridSearchCV(pipeline, param_grid, cv=5, scoring='accuracy')"
      ],
      "metadata": {
        "id": "HiUHN3rIczUI"
      },
      "execution_count": null,
      "outputs": []
    },
    {
      "cell_type": "code",
      "source": [
        "# Train the model using GridSearchCV\n",
        "grid_search.fit(X_train, y_train)\n"
      ],
      "metadata": {
        "colab": {
          "base_uri": "https://localhost:8080/",
          "height": 218
        },
        "id": "Jyl3dKnzc2Pj",
        "outputId": "c6289806-a1b8-458b-ae88-b20d5961c4fa"
      },
      "execution_count": null,
      "outputs": [
        {
          "output_type": "execute_result",
          "data": {
            "text/plain": [
              "GridSearchCV(cv=5,\n",
              "             estimator=Pipeline(steps=[('preprocessor',\n",
              "                                        ColumnTransformer(transformers=[('num',\n",
              "                                                                         StandardScaler(),\n",
              "                                                                         ['Flight '\n",
              "                                                                          'ID',\n",
              "                                                                          'Flight_Distance',\n",
              "                                                                          'Scheduled_Departure_Time',\n",
              "                                                                          'Day_of_Week',\n",
              "                                                                          'Month',\n",
              "                                                                          'Weather_Score',\n",
              "                                                                          'Previous_Flight_Delay_Minutes',\n",
              "                                                                          'Airline_Rating',\n",
              "                                                                          'Passenger_Load']),\n",
              "                                                                        ('cat',\n",
              "                                                                         OneHotEncoder(),\n",
              "                                                                         ['Airline',\n",
              "                                                                          'Origin_Airport',\n",
              "                                                                          'Destination_Airport',\n",
              "                                                                          'Airplane_Type'])])),\n",
              "                                       ('classifier',\n",
              "                                        LogisticRegression(random_state=42))]),\n",
              "             param_grid={'classifier__C': [0.01, 0.1, 1, 10, 100],\n",
              "                         'classifier__penalty': ['l1', 'l2'],\n",
              "                         'classifier__solver': ['liblinear']},\n",
              "             scoring='accuracy')"
            ],
            "text/html": [
              "<style>#sk-container-id-3 {color: black;background-color: white;}#sk-container-id-3 pre{padding: 0;}#sk-container-id-3 div.sk-toggleable {background-color: white;}#sk-container-id-3 label.sk-toggleable__label {cursor: pointer;display: block;width: 100%;margin-bottom: 0;padding: 0.3em;box-sizing: border-box;text-align: center;}#sk-container-id-3 label.sk-toggleable__label-arrow:before {content: \"▸\";float: left;margin-right: 0.25em;color: #696969;}#sk-container-id-3 label.sk-toggleable__label-arrow:hover:before {color: black;}#sk-container-id-3 div.sk-estimator:hover label.sk-toggleable__label-arrow:before {color: black;}#sk-container-id-3 div.sk-toggleable__content {max-height: 0;max-width: 0;overflow: hidden;text-align: left;background-color: #f0f8ff;}#sk-container-id-3 div.sk-toggleable__content pre {margin: 0.2em;color: black;border-radius: 0.25em;background-color: #f0f8ff;}#sk-container-id-3 input.sk-toggleable__control:checked~div.sk-toggleable__content {max-height: 200px;max-width: 100%;overflow: auto;}#sk-container-id-3 input.sk-toggleable__control:checked~label.sk-toggleable__label-arrow:before {content: \"▾\";}#sk-container-id-3 div.sk-estimator input.sk-toggleable__control:checked~label.sk-toggleable__label {background-color: #d4ebff;}#sk-container-id-3 div.sk-label input.sk-toggleable__control:checked~label.sk-toggleable__label {background-color: #d4ebff;}#sk-container-id-3 input.sk-hidden--visually {border: 0;clip: rect(1px 1px 1px 1px);clip: rect(1px, 1px, 1px, 1px);height: 1px;margin: -1px;overflow: hidden;padding: 0;position: absolute;width: 1px;}#sk-container-id-3 div.sk-estimator {font-family: monospace;background-color: #f0f8ff;border: 1px dotted black;border-radius: 0.25em;box-sizing: border-box;margin-bottom: 0.5em;}#sk-container-id-3 div.sk-estimator:hover {background-color: #d4ebff;}#sk-container-id-3 div.sk-parallel-item::after {content: \"\";width: 100%;border-bottom: 1px solid gray;flex-grow: 1;}#sk-container-id-3 div.sk-label:hover label.sk-toggleable__label {background-color: #d4ebff;}#sk-container-id-3 div.sk-serial::before {content: \"\";position: absolute;border-left: 1px solid gray;box-sizing: border-box;top: 0;bottom: 0;left: 50%;z-index: 0;}#sk-container-id-3 div.sk-serial {display: flex;flex-direction: column;align-items: center;background-color: white;padding-right: 0.2em;padding-left: 0.2em;position: relative;}#sk-container-id-3 div.sk-item {position: relative;z-index: 1;}#sk-container-id-3 div.sk-parallel {display: flex;align-items: stretch;justify-content: center;background-color: white;position: relative;}#sk-container-id-3 div.sk-item::before, #sk-container-id-3 div.sk-parallel-item::before {content: \"\";position: absolute;border-left: 1px solid gray;box-sizing: border-box;top: 0;bottom: 0;left: 50%;z-index: -1;}#sk-container-id-3 div.sk-parallel-item {display: flex;flex-direction: column;z-index: 1;position: relative;background-color: white;}#sk-container-id-3 div.sk-parallel-item:first-child::after {align-self: flex-end;width: 50%;}#sk-container-id-3 div.sk-parallel-item:last-child::after {align-self: flex-start;width: 50%;}#sk-container-id-3 div.sk-parallel-item:only-child::after {width: 0;}#sk-container-id-3 div.sk-dashed-wrapped {border: 1px dashed gray;margin: 0 0.4em 0.5em 0.4em;box-sizing: border-box;padding-bottom: 0.4em;background-color: white;}#sk-container-id-3 div.sk-label label {font-family: monospace;font-weight: bold;display: inline-block;line-height: 1.2em;}#sk-container-id-3 div.sk-label-container {text-align: center;}#sk-container-id-3 div.sk-container {/* jupyter's `normalize.less` sets `[hidden] { display: none; }` but bootstrap.min.css set `[hidden] { display: none !important; }` so we also need the `!important` here to be able to override the default hidden behavior on the sphinx rendered scikit-learn.org. See: https://github.com/scikit-learn/scikit-learn/issues/21755 */display: inline-block !important;position: relative;}#sk-container-id-3 div.sk-text-repr-fallback {display: none;}</style><div id=\"sk-container-id-3\" class=\"sk-top-container\"><div class=\"sk-text-repr-fallback\"><pre>GridSearchCV(cv=5,\n",
              "             estimator=Pipeline(steps=[(&#x27;preprocessor&#x27;,\n",
              "                                        ColumnTransformer(transformers=[(&#x27;num&#x27;,\n",
              "                                                                         StandardScaler(),\n",
              "                                                                         [&#x27;Flight &#x27;\n",
              "                                                                          &#x27;ID&#x27;,\n",
              "                                                                          &#x27;Flight_Distance&#x27;,\n",
              "                                                                          &#x27;Scheduled_Departure_Time&#x27;,\n",
              "                                                                          &#x27;Day_of_Week&#x27;,\n",
              "                                                                          &#x27;Month&#x27;,\n",
              "                                                                          &#x27;Weather_Score&#x27;,\n",
              "                                                                          &#x27;Previous_Flight_Delay_Minutes&#x27;,\n",
              "                                                                          &#x27;Airline_Rating&#x27;,\n",
              "                                                                          &#x27;Passenger_Load&#x27;]),\n",
              "                                                                        (&#x27;cat&#x27;,\n",
              "                                                                         OneHotEncoder(),\n",
              "                                                                         [&#x27;Airline&#x27;,\n",
              "                                                                          &#x27;Origin_Airport&#x27;,\n",
              "                                                                          &#x27;Destination_Airport&#x27;,\n",
              "                                                                          &#x27;Airplane_Type&#x27;])])),\n",
              "                                       (&#x27;classifier&#x27;,\n",
              "                                        LogisticRegression(random_state=42))]),\n",
              "             param_grid={&#x27;classifier__C&#x27;: [0.01, 0.1, 1, 10, 100],\n",
              "                         &#x27;classifier__penalty&#x27;: [&#x27;l1&#x27;, &#x27;l2&#x27;],\n",
              "                         &#x27;classifier__solver&#x27;: [&#x27;liblinear&#x27;]},\n",
              "             scoring=&#x27;accuracy&#x27;)</pre><b>In a Jupyter environment, please rerun this cell to show the HTML representation or trust the notebook. <br />On GitHub, the HTML representation is unable to render, please try loading this page with nbviewer.org.</b></div><div class=\"sk-container\" hidden><div class=\"sk-item sk-dashed-wrapped\"><div class=\"sk-label-container\"><div class=\"sk-label sk-toggleable\"><input class=\"sk-toggleable__control sk-hidden--visually\" id=\"sk-estimator-id-16\" type=\"checkbox\" ><label for=\"sk-estimator-id-16\" class=\"sk-toggleable__label sk-toggleable__label-arrow\">GridSearchCV</label><div class=\"sk-toggleable__content\"><pre>GridSearchCV(cv=5,\n",
              "             estimator=Pipeline(steps=[(&#x27;preprocessor&#x27;,\n",
              "                                        ColumnTransformer(transformers=[(&#x27;num&#x27;,\n",
              "                                                                         StandardScaler(),\n",
              "                                                                         [&#x27;Flight &#x27;\n",
              "                                                                          &#x27;ID&#x27;,\n",
              "                                                                          &#x27;Flight_Distance&#x27;,\n",
              "                                                                          &#x27;Scheduled_Departure_Time&#x27;,\n",
              "                                                                          &#x27;Day_of_Week&#x27;,\n",
              "                                                                          &#x27;Month&#x27;,\n",
              "                                                                          &#x27;Weather_Score&#x27;,\n",
              "                                                                          &#x27;Previous_Flight_Delay_Minutes&#x27;,\n",
              "                                                                          &#x27;Airline_Rating&#x27;,\n",
              "                                                                          &#x27;Passenger_Load&#x27;]),\n",
              "                                                                        (&#x27;cat&#x27;,\n",
              "                                                                         OneHotEncoder(),\n",
              "                                                                         [&#x27;Airline&#x27;,\n",
              "                                                                          &#x27;Origin_Airport&#x27;,\n",
              "                                                                          &#x27;Destination_Airport&#x27;,\n",
              "                                                                          &#x27;Airplane_Type&#x27;])])),\n",
              "                                       (&#x27;classifier&#x27;,\n",
              "                                        LogisticRegression(random_state=42))]),\n",
              "             param_grid={&#x27;classifier__C&#x27;: [0.01, 0.1, 1, 10, 100],\n",
              "                         &#x27;classifier__penalty&#x27;: [&#x27;l1&#x27;, &#x27;l2&#x27;],\n",
              "                         &#x27;classifier__solver&#x27;: [&#x27;liblinear&#x27;]},\n",
              "             scoring=&#x27;accuracy&#x27;)</pre></div></div></div><div class=\"sk-parallel\"><div class=\"sk-parallel-item\"><div class=\"sk-item\"><div class=\"sk-label-container\"><div class=\"sk-label sk-toggleable\"><input class=\"sk-toggleable__control sk-hidden--visually\" id=\"sk-estimator-id-17\" type=\"checkbox\" ><label for=\"sk-estimator-id-17\" class=\"sk-toggleable__label sk-toggleable__label-arrow\">estimator: Pipeline</label><div class=\"sk-toggleable__content\"><pre>Pipeline(steps=[(&#x27;preprocessor&#x27;,\n",
              "                 ColumnTransformer(transformers=[(&#x27;num&#x27;, StandardScaler(),\n",
              "                                                  [&#x27;Flight ID&#x27;,\n",
              "                                                   &#x27;Flight_Distance&#x27;,\n",
              "                                                   &#x27;Scheduled_Departure_Time&#x27;,\n",
              "                                                   &#x27;Day_of_Week&#x27;, &#x27;Month&#x27;,\n",
              "                                                   &#x27;Weather_Score&#x27;,\n",
              "                                                   &#x27;Previous_Flight_Delay_Minutes&#x27;,\n",
              "                                                   &#x27;Airline_Rating&#x27;,\n",
              "                                                   &#x27;Passenger_Load&#x27;]),\n",
              "                                                 (&#x27;cat&#x27;, OneHotEncoder(),\n",
              "                                                  [&#x27;Airline&#x27;, &#x27;Origin_Airport&#x27;,\n",
              "                                                   &#x27;Destination_Airport&#x27;,\n",
              "                                                   &#x27;Airplane_Type&#x27;])])),\n",
              "                (&#x27;classifier&#x27;, LogisticRegression(random_state=42))])</pre></div></div></div><div class=\"sk-serial\"><div class=\"sk-item\"><div class=\"sk-serial\"><div class=\"sk-item sk-dashed-wrapped\"><div class=\"sk-label-container\"><div class=\"sk-label sk-toggleable\"><input class=\"sk-toggleable__control sk-hidden--visually\" id=\"sk-estimator-id-18\" type=\"checkbox\" ><label for=\"sk-estimator-id-18\" class=\"sk-toggleable__label sk-toggleable__label-arrow\">preprocessor: ColumnTransformer</label><div class=\"sk-toggleable__content\"><pre>ColumnTransformer(transformers=[(&#x27;num&#x27;, StandardScaler(),\n",
              "                                 [&#x27;Flight ID&#x27;, &#x27;Flight_Distance&#x27;,\n",
              "                                  &#x27;Scheduled_Departure_Time&#x27;, &#x27;Day_of_Week&#x27;,\n",
              "                                  &#x27;Month&#x27;, &#x27;Weather_Score&#x27;,\n",
              "                                  &#x27;Previous_Flight_Delay_Minutes&#x27;,\n",
              "                                  &#x27;Airline_Rating&#x27;, &#x27;Passenger_Load&#x27;]),\n",
              "                                (&#x27;cat&#x27;, OneHotEncoder(),\n",
              "                                 [&#x27;Airline&#x27;, &#x27;Origin_Airport&#x27;,\n",
              "                                  &#x27;Destination_Airport&#x27;, &#x27;Airplane_Type&#x27;])])</pre></div></div></div><div class=\"sk-parallel\"><div class=\"sk-parallel-item\"><div class=\"sk-item\"><div class=\"sk-label-container\"><div class=\"sk-label sk-toggleable\"><input class=\"sk-toggleable__control sk-hidden--visually\" id=\"sk-estimator-id-19\" type=\"checkbox\" ><label for=\"sk-estimator-id-19\" class=\"sk-toggleable__label sk-toggleable__label-arrow\">num</label><div class=\"sk-toggleable__content\"><pre>[&#x27;Flight ID&#x27;, &#x27;Flight_Distance&#x27;, &#x27;Scheduled_Departure_Time&#x27;, &#x27;Day_of_Week&#x27;, &#x27;Month&#x27;, &#x27;Weather_Score&#x27;, &#x27;Previous_Flight_Delay_Minutes&#x27;, &#x27;Airline_Rating&#x27;, &#x27;Passenger_Load&#x27;]</pre></div></div></div><div class=\"sk-serial\"><div class=\"sk-item\"><div class=\"sk-estimator sk-toggleable\"><input class=\"sk-toggleable__control sk-hidden--visually\" id=\"sk-estimator-id-20\" type=\"checkbox\" ><label for=\"sk-estimator-id-20\" class=\"sk-toggleable__label sk-toggleable__label-arrow\">StandardScaler</label><div class=\"sk-toggleable__content\"><pre>StandardScaler()</pre></div></div></div></div></div></div><div class=\"sk-parallel-item\"><div class=\"sk-item\"><div class=\"sk-label-container\"><div class=\"sk-label sk-toggleable\"><input class=\"sk-toggleable__control sk-hidden--visually\" id=\"sk-estimator-id-21\" type=\"checkbox\" ><label for=\"sk-estimator-id-21\" class=\"sk-toggleable__label sk-toggleable__label-arrow\">cat</label><div class=\"sk-toggleable__content\"><pre>[&#x27;Airline&#x27;, &#x27;Origin_Airport&#x27;, &#x27;Destination_Airport&#x27;, &#x27;Airplane_Type&#x27;]</pre></div></div></div><div class=\"sk-serial\"><div class=\"sk-item\"><div class=\"sk-estimator sk-toggleable\"><input class=\"sk-toggleable__control sk-hidden--visually\" id=\"sk-estimator-id-22\" type=\"checkbox\" ><label for=\"sk-estimator-id-22\" class=\"sk-toggleable__label sk-toggleable__label-arrow\">OneHotEncoder</label><div class=\"sk-toggleable__content\"><pre>OneHotEncoder()</pre></div></div></div></div></div></div></div></div><div class=\"sk-item\"><div class=\"sk-estimator sk-toggleable\"><input class=\"sk-toggleable__control sk-hidden--visually\" id=\"sk-estimator-id-23\" type=\"checkbox\" ><label for=\"sk-estimator-id-23\" class=\"sk-toggleable__label sk-toggleable__label-arrow\">LogisticRegression</label><div class=\"sk-toggleable__content\"><pre>LogisticRegression(random_state=42)</pre></div></div></div></div></div></div></div></div></div></div></div></div>"
            ]
          },
          "metadata": {},
          "execution_count": 45
        }
      ]
    },
    {
      "cell_type": "code",
      "source": [
        "# Get the best model from GridSearchCV\n",
        "best_model = grid_search.best_estimator_\n"
      ],
      "metadata": {
        "id": "y2daHhGidTw-"
      },
      "execution_count": null,
      "outputs": []
    },
    {
      "cell_type": "code",
      "source": [
        "# Make predictions on the test set\n",
        "y_pred = best_model.predict(X_test)"
      ],
      "metadata": {
        "id": "OWRSxJqOdYS1"
      },
      "execution_count": null,
      "outputs": []
    },
    {
      "cell_type": "code",
      "source": [
        "# Evaluate the model\n",
        "accuracy = accuracy_score(y_test, y_pred)\n",
        "precision = precision_score(y_test, y_pred)\n",
        "recall = recall_score(y_test, y_pred)\n",
        "f1 = f1_score(y_test, y_pred)\n",
        "roc_auc = roc_auc_score(y_test, y_pred)"
      ],
      "metadata": {
        "id": "OREYgE8mdasU"
      },
      "execution_count": null,
      "outputs": []
    },
    {
      "cell_type": "code",
      "source": [
        "# Print the evaluation metrics and best hyperparameters\n",
        "print(f'Best Hyperparameters: {grid_search.best_params_}')\n",
        "print(f'Accuracy: {accuracy:.2f}')\n",
        "print(f'Precision: {precision:.2f}')\n",
        "print(f'Recall: {recall:.2f}')\n",
        "print(f'F1 Score: {f1:.2f}')\n",
        "print(f'ROC-AUC Score: {roc_auc:.2f}')"
      ],
      "metadata": {
        "colab": {
          "base_uri": "https://localhost:8080/"
        },
        "id": "rYqjw7cVdcs5",
        "outputId": "5c68dd49-f999-41d6-dc2c-22a95a7d57c4"
      },
      "execution_count": null,
      "outputs": [
        {
          "output_type": "stream",
          "name": "stdout",
          "text": [
            "Best Hyperparameters: {'classifier__C': 0.1, 'classifier__penalty': 'l1', 'classifier__solver': 'liblinear'}\n",
            "Accuracy: 0.80\n",
            "Precision: 0.84\n",
            "Recall: 0.88\n",
            "F1 Score: 0.86\n",
            "ROC-AUC Score: 0.75\n"
          ]
        }
      ]
    },
    {
      "cell_type": "markdown",
      "source": [
        "## **Conclusion**\n",
        "\n",
        "\n",
        "This code provides a complete workflow for predicting flight cancellations using Logistic Regression. It includes data preprocessing steps such as encoding categorical variables and feature scaling, model training, and evaluation. By implementing this predictive model, Flyzy can enhance customer satisfaction, optimize operational efficiency, improve business reputation, and increase profitability, aligning with its business objectives."
      ],
      "metadata": {
        "id": "iZhJlTTeljuB"
      }
    },
    {
      "cell_type": "code",
      "source": [],
      "metadata": {
        "id": "PmDj8-D0dfTS"
      },
      "execution_count": null,
      "outputs": []
    }
  ]
}