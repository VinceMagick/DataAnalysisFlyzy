{
  "nbformat": 4,
  "nbformat_minor": 0,
  "metadata": {
    "colab": {
      "provenance": []
    },
    "kernelspec": {
      "name": "python3",
      "display_name": "Python 3"
    },
    "language_info": {
      "name": "python"
    }
  },
  "cells": [
    {
      "cell_type": "markdown",
      "source": [
        "**Step 1: Import All Files into the Dataset\n",
        "First, we need to import necessary libraries and read the files into pandas DataFrames**"
      ],
      "metadata": {
        "id": "O1MD-UxeWydJ"
      }
    },
    {
      "cell_type": "code",
      "source": [
        "import pandas as pd\n",
        "import glob\n",
        "\n",
        "# Define the file paths\n",
        "file_paths = ['/content/Delhi 1 Flights.xlsx', '/content/Delhi 2 Flights_.xlsx', '/content/Hyderabad 1 flights.csv',\n",
        "              '/content/Kolkata Flight.csv', '/content/Bangalore Flight.csv']\n",
        "\n",
        "# Reading Excel files for Delhi\n",
        "delhi_df1 = pd.read_excel('/content/Delhi 1 Flights.xlsx')\n",
        "delhi_df2 = pd.read_excel('/content/Delhi 2 Flights_.xlsx')\n",
        "\n",
        "# Reading CSV files\n",
        "hyderabad_df = pd.read_csv('/content/Hyderabad 1 flights.csv')\n",
        "kolkata_df = pd.read_csv('/content/Kolkata Flight.csv')\n",
        "bangalore_df = pd.read_csv('/content/Bangalore Flight.csv')\n",
        "\n",
        "# Concatenating Delhi data\n",
        "delhi_df = pd.concat([delhi_df1, delhi_df2], ignore_index=True)\n"
      ],
      "metadata": {
        "id": "n_atUaPlU2AT"
      },
      "execution_count": null,
      "outputs": []
    },
    {
      "cell_type": "markdown",
      "source": [
        "**Step 2: Concatenate Datasets\n",
        "Next, we concatenate all the datasets into a single DataFrame**\n",
        "\n",
        "---\n",
        "\n"
      ],
      "metadata": {
        "id": "2I1t6KdJW3zv"
      }
    },
    {
      "cell_type": "code",
      "source": [
        "# Concatenate all city dataframes into one\n",
        "all_flights_df = pd.concat([delhi_df, hyderabad_df, kolkata_df, bangalore_df], ignore_index=True)\n"
      ],
      "metadata": {
        "id": "Or0hazQAWjTz"
      },
      "execution_count": null,
      "outputs": []
    },
    {
      "cell_type": "markdown",
      "source": [
        "**Step 3: Perform Data Cleaning**\n",
        "\n",
        "**(a) Check for Null Values and Imputation**\n"
      ],
      "metadata": {
        "id": "GsFMCnPDXDwH"
      }
    },
    {
      "cell_type": "code",
      "source": [
        "# Checking for null values\n",
        "null_values = all_flights_df.isnull().sum()\n",
        "\n",
        "# Print null values to determine the extent\n",
        "print(\"Null values in each column:\\n\", null_values)\n",
        "\n",
        "# Choosing imputation method - let's assume mean for numeric and mode for categorical\n",
        "for column in all_flights_df.columns:\n",
        "    if all_flights_df[column].isnull().sum() > 0:\n",
        "        if all_flights_df[column].dtype == 'object':\n",
        "            all_flights_df[column].fillna(all_flights_df[column].mode()[0], inplace=True)\n",
        "        else:\n",
        "            all_flights_df[column].fillna(all_flights_df[column].mean(), inplace=True)\n"
      ],
      "metadata": {
        "colab": {
          "base_uri": "https://localhost:8080/"
        },
        "id": "dMzmWX5IW6__",
        "outputId": "da9f4a63-5bcb-4c03-980d-6a255ddf57ad"
      },
      "execution_count": null,
      "outputs": [
        {
          "output_type": "stream",
          "name": "stdout",
          "text": [
            "Null values in each column:\n",
            " Airline                   23189\n",
            "Flight No.                 4986\n",
            "Source                     4986\n",
            "Departure                  4986\n",
            "No. of stops               4986\n",
            "Arrival                    4986\n",
            "Destination                4986\n",
            "Ticket Class               4986\n",
            "Flight Duration (hrs)      4986\n",
            "Days left                  4986\n",
            "Price                      4986\n",
            "ï»¿Airline               169482\n",
            "dtype: int64\n"
          ]
        }
      ]
    },
    {
      "cell_type": "markdown",
      "source": [
        "**(b) Identify and Handle Outliers\n",
        "To identify and handle outliers, we can use the IQR method.**"
      ],
      "metadata": {
        "id": "rn6s3wzsXPJg"
      }
    },
    {
      "cell_type": "code",
      "source": [
        "# Using IQR to handle outliers for numerical columns\n",
        "for column in all_flights_df.select_dtypes(include=['float64', 'int64']).columns:\n",
        "    Q1 = all_flights_df[column].quantile(0.25)\n",
        "    Q3 = all_flights_df[column].quantile(0.75)\n",
        "    IQR = Q3 - Q1\n",
        "    lower_bound = Q1 - 1.5 * IQR\n",
        "    upper_bound = Q3 + 1.5 * IQR\n",
        "\n",
        "    # Filtering out outliers\n",
        "    all_flights_df = all_flights_df[(all_flights_df[column] >= lower_bound) & (all_flights_df[column] <= upper_bound)]\n"
      ],
      "metadata": {
        "id": "8pJULScjXIGe"
      },
      "execution_count": null,
      "outputs": []
    },
    {
      "cell_type": "markdown",
      "source": [
        "**(c) Sanity Check\n",
        "We will check the range of key parameters to ensure data integrity.**"
      ],
      "metadata": {
        "id": "gMcnFBFJXYAC"
      }
    },
    {
      "cell_type": "code",
      "source": [
        "# Sanity check: Print min and max values of key columns\n",
        "print(\"Price: min =\", all_flights_df['Price'].min(), \", max =\", all_flights_df['Price'].max())\n",
        "print(\"Days left: min =\", all_flights_df['Days left'].min(), \", max =\", all_flights_df['Days left'].max())\n"
      ],
      "metadata": {
        "colab": {
          "base_uri": "https://localhost:8080/"
        },
        "id": "XgUb5jfTXSku",
        "outputId": "7706c0e3-ce96-4c43-fc17-c286c63331a0"
      },
      "execution_count": null,
      "outputs": [
        {
          "output_type": "stream",
          "name": "stdout",
          "text": [
            "Price: min = 1603.0 , max = 62270.0\n",
            "Days left: min = 1.0 , max = 49.0\n"
          ]
        }
      ]
    },
    {
      "cell_type": "markdown",
      "source": [
        "**(d) Format and Transform Data\n",
        "If necessary, format and transform the data, such as converting time columns to appropriate datetime formats.**"
      ],
      "metadata": {
        "id": "rWJkbo0-XsON"
      }
    },
    {
      "cell_type": "code",
      "source": [
        "early_morning_rows = all_flights_df[all_flights_df['Departure'] == 'Early_Morning']\n",
        "print(early_morning_rows)"
      ],
      "metadata": {
        "colab": {
          "base_uri": "https://localhost:8080/"
        },
        "id": "Oeqs7vDlZU09",
        "outputId": "58af0df7-a979-4062-db6f-d294f96cfc05"
      },
      "execution_count": null,
      "outputs": [
        {
          "output_type": "stream",
          "name": "stdout",
          "text": [
            "          Airline Flight No.     Source      Departure No. of stops  \\\n",
            "0         AirAsia     I5-548      Delhi  Early_Morning            1   \n",
            "2         AirAsia     I5-787      Delhi  Early_Morning            1   \n",
            "6         AirAsia     I5-764      Delhi  Early_Morning            1   \n",
            "7         AirAsia     I5-791      Delhi  Early_Morning            1   \n",
            "9         AirAsia     I5-548      Delhi  Early_Morning            1   \n",
            "...           ...        ...        ...            ...          ...   \n",
            "187663    Vistara     UK-808  Bangalore  Early_Morning            1   \n",
            "187666    Vistara     UK-810  Bangalore  Early_Morning            1   \n",
            "187668    Vistara     UK-808  Bangalore  Early_Morning            1   \n",
            "187670    Vistara     UK-810  Bangalore  Early_Morning            1   \n",
            "187679  Air_India     AI-804  Bangalore  Early_Morning            1   \n",
            "\n",
            "          Arrival Destination Ticket Class  Flight Duration (hrs)  Days left  \\\n",
            "0       Afternoon   Bangalore      Economy                   7.58       41.0   \n",
            "2       Afternoon   Bangalore      Economy                   8.17       41.0   \n",
            "6       Afternoon   Bangalore      Economy                  10.33       41.0   \n",
            "7       Afternoon   Bangalore      Economy                  10.92       41.0   \n",
            "9         Evening   Bangalore      Economy                  11.50       41.0   \n",
            "...           ...         ...          ...                    ...        ...   \n",
            "187663      Night     Chennai     Business                  12.25       49.0   \n",
            "187666      Night     Chennai     Business                  13.25       49.0   \n",
            "187668      Night     Chennai     Business                  14.75       49.0   \n",
            "187670      Night     Chennai     Business                  15.75       49.0   \n",
            "187679      Night     Chennai     Business                  17.42       49.0   \n",
            "\n",
            "          Price ï»¿Airline  \n",
            "0        3090.0    Vistara  \n",
            "2        3090.0    Vistara  \n",
            "6        3090.0    Vistara  \n",
            "7        3090.0    Vistara  \n",
            "9        3090.0    Vistara  \n",
            "...         ...        ...  \n",
            "187663  60396.0    Vistara  \n",
            "187666  60396.0    Vistara  \n",
            "187668  60396.0    Vistara  \n",
            "187670  60396.0    Vistara  \n",
            "187679  60396.0    Vistara  \n",
            "\n",
            "[36797 rows x 12 columns]\n"
          ]
        }
      ]
    },
    {
      "cell_type": "code",
      "source": [
        "# Function to clean time data\n",
        "def clean_time_column(time_series):\n",
        "    # If the value is not a valid time, replace it with NaT\n",
        "    cleaned_times = pd.to_datetime(time_series, errors='coerce', format='%H:%M')\n",
        "    # Replace NaT with a default time, here using '00:00'\n",
        "    return cleaned_times.fillna(pd.to_datetime('00:00').time())\n"
      ],
      "metadata": {
        "id": "or1e8ungXbXD"
      },
      "execution_count": null,
      "outputs": []
    },
    {
      "cell_type": "code",
      "source": [
        "# Apply the function to the 'Departure' and 'Arrival' columns\n",
        "all_flights_df['Departure'] = clean_time_column(all_flights_df['Departure'])\n",
        "all_flights_df['Arrival'] = clean_time_column(all_flights_df['Arrival'])\n",
        "\n",
        "# Further transformation if needed\n",
        "# For example, ensuring 'Ticket Class' is categorized\n",
        "all_flights_df['Ticket Class'] = all_flights_df['Ticket Class'].astype('category')\n"
      ],
      "metadata": {
        "id": "h6mycUVfXvKq"
      },
      "execution_count": null,
      "outputs": []
    },
    {
      "cell_type": "markdown",
      "source": [
        "**Step 4: Save the Cleaned Dataset**\n"
      ],
      "metadata": {
        "id": "7LfX8_bndG-q"
      }
    },
    {
      "cell_type": "code",
      "source": [
        "# Save the cleaned DataFrame to a CSV file\n",
        "all_flights_df.to_csv('cleaned_flights_data.csv', index=False)"
      ],
      "metadata": {
        "id": "D7ss97tacmpO"
      },
      "execution_count": null,
      "outputs": []
    },
    {
      "cell_type": "code",
      "source": [],
      "metadata": {
        "id": "E2yRVj5adOsg"
      },
      "execution_count": null,
      "outputs": []
    }
  ]
}